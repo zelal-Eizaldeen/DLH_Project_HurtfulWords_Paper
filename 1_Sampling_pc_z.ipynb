{
  "cells": [
    {
      "cell_type": "markdown",
      "metadata": {
        "id": "view-in-github",
        "colab_type": "text"
      },
      "source": [
        "<a href=\"https://colab.research.google.com/github/zelal-Eizaldeen/DLH_Project_HurtfulWords_Paper/blob/main/1_Sampling_pc_z.ipynb\" target=\"_parent\"><img src=\"https://colab.research.google.com/assets/colab-badge.svg\" alt=\"Open In Colab\"/></a>"
      ]
    },
    {
      "cell_type": "code",
      "execution_count": null,
      "metadata": {
        "colab": {
          "base_uri": "https://localhost:8080/"
        },
        "id": "Xpf3cQyvBIzO",
        "outputId": "c9f5d025-c3db-40e1-d335-ace2a707d6b4"
      },
      "outputs": [
        {
          "output_type": "stream",
          "name": "stdout",
          "text": [
            "Drive already mounted at /content/drive/; to attempt to forcibly remount, call drive.mount(\"/content/drive/\", force_remount=True).\n"
          ]
        }
      ],
      "source": [
        "from google.colab import drive\n",
        "drive.mount('/content/drive/')"
      ]
    },
    {
      "cell_type": "code",
      "source": [
        "import pandas as pd\n",
        "import numpy as np\n",
        "import random"
      ],
      "metadata": {
        "id": "-zSkzD8yX5OJ"
      },
      "execution_count": null,
      "outputs": []
    },
    {
      "cell_type": "markdown",
      "source": [
        "# Implementation Strategy in Code:\n",
        "To replicate the paper's methodology in code, you can follow these steps:\n",
        "\n",
        "# 1. Preprocessing the Data:\n",
        "\n",
        "Load clinical notes from the MIMIC-III dataset.\n",
        "\n",
        "Clean the notes and apply special tokens to represent PHI.\n",
        "\n",
        "Prepare sequences of clinical notes for input into SciBERT.\n",
        "\n",
        "# 2. Model Initialization:\n",
        "\n",
        "Initialize SciBERT for tokenization and embedding generation.\n",
        "\n",
        "Fine-tune SciBERT using the preprocessed clinical notes.\n",
        "\n",
        "# 3. Two-Stage Training:\n",
        "\n",
        "In the first stage, train with sequences of 128 tokens.\n",
        "\n",
        "Afterward, extend the sequences to 512 tokens and continue training."
      ],
      "metadata": {
        "id": "wRjuheIlVRDi"
      }
    },
    {
      "cell_type": "markdown",
      "source": [
        "# Libraries"
      ],
      "metadata": {
        "id": "mhF-Xt_tN9qm"
      }
    },
    {
      "cell_type": "code",
      "source": [
        "PATH_TO_SAMPLED_CSVs=\"/content/drive/MyDrive/Payel-DLH-related/DataFiles/sampled_files/\""
      ],
      "metadata": {
        "id": "k_ZJRnzuWtoj"
      },
      "execution_count": null,
      "outputs": []
    },
    {
      "cell_type": "code",
      "source": [
        "PATH_TO_ORIG_CSVs=\"/content/drive/MyDrive/Payel-DLH-related/DataFiles/mimic-iii-clinical-database-1.4\""
      ],
      "metadata": {
        "id": "BZtEcMxVWtzf"
      },
      "execution_count": null,
      "outputs": []
    },
    {
      "cell_type": "code",
      "source": [
        "!ls $PATH_TO_SAMPLED_CSVs"
      ],
      "metadata": {
        "colab": {
          "base_uri": "https://localhost:8080/"
        },
        "id": "istKbGoYIVak",
        "outputId": "629798c8-49a8-4fe9-a086-49fbf476ee10"
      },
      "execution_count": null,
      "outputs": [
        {
          "output_type": "stream",
          "name": "stdout",
          "text": [
            "sampled_ADMISSIONS.csv\t   sampled_ICUSTAYS.csv    sampled_PATIENTS.csv\n",
            "sampled_DIAGNOSES_ICD.csv  sampled_NOTEEVENTS.csv\n"
          ]
        }
      ]
    },
    {
      "cell_type": "code",
      "source": [
        "!ls $PATH_TO_ORIG_CSVs"
      ],
      "metadata": {
        "colab": {
          "base_uri": "https://localhost:8080/"
        },
        "id": "glAEEo_yIY9_",
        "outputId": "2c084f7c-9915-4301-b853-39e8da04ead2"
      },
      "execution_count": null,
      "outputs": [
        {
          "output_type": "stream",
          "name": "stdout",
          "text": [
            "ADMISSIONS.csv\t\t   D_CPT.csv\t\t INPUTEVENTS_CV.csv\t PRESCRIPTIONS.csv\n",
            "CALLOUT.csv\t\t   DIAGNOSES_ICD.csv\t INPUTEVENTS_MV.csv\t PROCEDUREEVENTS_MV.csv\n",
            "CAREGIVERS.csv\t\t   D_ICD_DIAGNOSES.csv\t LABEVENTS.csv\t\t PROCEDURES_ICD.csv\n",
            "CHARTEVENTS.csv\t\t   D_ICD_PROCEDURES.csv  LICENSE.txt\t\t README.md\n",
            "checksum_md5_unzipped.txt  D_ITEMS.csv\t\t MICROBIOLOGYEVENTS.csv  SERVICES.csv\n",
            "checksum_md5_zipped.txt    D_LABITEMS.csv\t NOTEEVENTS.csv\t\t SHA256SUMS.txt\n",
            "CPTEVENTS.csv\t\t   DRGCODES.csv\t\t OUTPUTEVENTS.csv\t TRANSFERS.csv\n",
            "DATETIMEEVENTS.csv\t   ICUSTAYS.csv\t\t PATIENTS.csv\n"
          ]
        }
      ]
    },
    {
      "cell_type": "code",
      "source": [
        "!pip install transformers\n",
        "!pip install torch\n",
        "!pip install sklearn\n",
        "!pip install scipy"
      ],
      "metadata": {
        "colab": {
          "base_uri": "https://localhost:8080/"
        },
        "id": "OK7xG5M3N_4i",
        "outputId": "7c208fde-59c2-4d5c-9820-f37951b2b57d",
        "collapsed": true
      },
      "execution_count": null,
      "outputs": [
        {
          "output_type": "stream",
          "name": "stdout",
          "text": [
            "Requirement already satisfied: transformers in /usr/local/lib/python3.11/dist-packages (4.50.0)\n",
            "Requirement already satisfied: filelock in /usr/local/lib/python3.11/dist-packages (from transformers) (3.18.0)\n",
            "Requirement already satisfied: huggingface-hub<1.0,>=0.26.0 in /usr/local/lib/python3.11/dist-packages (from transformers) (0.29.3)\n",
            "Requirement already satisfied: numpy>=1.17 in /usr/local/lib/python3.11/dist-packages (from transformers) (2.0.2)\n",
            "Requirement already satisfied: packaging>=20.0 in /usr/local/lib/python3.11/dist-packages (from transformers) (24.2)\n",
            "Requirement already satisfied: pyyaml>=5.1 in /usr/local/lib/python3.11/dist-packages (from transformers) (6.0.2)\n",
            "Requirement already satisfied: regex!=2019.12.17 in /usr/local/lib/python3.11/dist-packages (from transformers) (2024.11.6)\n",
            "Requirement already satisfied: requests in /usr/local/lib/python3.11/dist-packages (from transformers) (2.32.3)\n",
            "Requirement already satisfied: tokenizers<0.22,>=0.21 in /usr/local/lib/python3.11/dist-packages (from transformers) (0.21.1)\n",
            "Requirement already satisfied: safetensors>=0.4.3 in /usr/local/lib/python3.11/dist-packages (from transformers) (0.5.3)\n",
            "Requirement already satisfied: tqdm>=4.27 in /usr/local/lib/python3.11/dist-packages (from transformers) (4.67.1)\n",
            "Requirement already satisfied: fsspec>=2023.5.0 in /usr/local/lib/python3.11/dist-packages (from huggingface-hub<1.0,>=0.26.0->transformers) (2025.3.0)\n",
            "Requirement already satisfied: typing-extensions>=3.7.4.3 in /usr/local/lib/python3.11/dist-packages (from huggingface-hub<1.0,>=0.26.0->transformers) (4.12.2)\n",
            "Requirement already satisfied: charset-normalizer<4,>=2 in /usr/local/lib/python3.11/dist-packages (from requests->transformers) (3.4.1)\n",
            "Requirement already satisfied: idna<4,>=2.5 in /usr/local/lib/python3.11/dist-packages (from requests->transformers) (3.10)\n",
            "Requirement already satisfied: urllib3<3,>=1.21.1 in /usr/local/lib/python3.11/dist-packages (from requests->transformers) (2.3.0)\n",
            "Requirement already satisfied: certifi>=2017.4.17 in /usr/local/lib/python3.11/dist-packages (from requests->transformers) (2025.1.31)\n",
            "Requirement already satisfied: torch in /usr/local/lib/python3.11/dist-packages (2.6.0+cu124)\n",
            "Requirement already satisfied: filelock in /usr/local/lib/python3.11/dist-packages (from torch) (3.18.0)\n",
            "Requirement already satisfied: typing-extensions>=4.10.0 in /usr/local/lib/python3.11/dist-packages (from torch) (4.12.2)\n",
            "Requirement already satisfied: networkx in /usr/local/lib/python3.11/dist-packages (from torch) (3.4.2)\n",
            "Requirement already satisfied: jinja2 in /usr/local/lib/python3.11/dist-packages (from torch) (3.1.6)\n",
            "Requirement already satisfied: fsspec in /usr/local/lib/python3.11/dist-packages (from torch) (2025.3.0)\n",
            "Requirement already satisfied: nvidia-cuda-nvrtc-cu12==12.4.127 in /usr/local/lib/python3.11/dist-packages (from torch) (12.4.127)\n",
            "Requirement already satisfied: nvidia-cuda-runtime-cu12==12.4.127 in /usr/local/lib/python3.11/dist-packages (from torch) (12.4.127)\n",
            "Requirement already satisfied: nvidia-cuda-cupti-cu12==12.4.127 in /usr/local/lib/python3.11/dist-packages (from torch) (12.4.127)\n",
            "Requirement already satisfied: nvidia-cudnn-cu12==9.1.0.70 in /usr/local/lib/python3.11/dist-packages (from torch) (9.1.0.70)\n",
            "Requirement already satisfied: nvidia-cublas-cu12==12.4.5.8 in /usr/local/lib/python3.11/dist-packages (from torch) (12.4.5.8)\n",
            "Requirement already satisfied: nvidia-cufft-cu12==11.2.1.3 in /usr/local/lib/python3.11/dist-packages (from torch) (11.2.1.3)\n",
            "Requirement already satisfied: nvidia-curand-cu12==10.3.5.147 in /usr/local/lib/python3.11/dist-packages (from torch) (10.3.5.147)\n",
            "Requirement already satisfied: nvidia-cusolver-cu12==11.6.1.9 in /usr/local/lib/python3.11/dist-packages (from torch) (11.6.1.9)\n",
            "Requirement already satisfied: nvidia-cusparse-cu12==12.3.1.170 in /usr/local/lib/python3.11/dist-packages (from torch) (12.3.1.170)\n",
            "Requirement already satisfied: nvidia-cusparselt-cu12==0.6.2 in /usr/local/lib/python3.11/dist-packages (from torch) (0.6.2)\n",
            "Requirement already satisfied: nvidia-nccl-cu12==2.21.5 in /usr/local/lib/python3.11/dist-packages (from torch) (2.21.5)\n",
            "Requirement already satisfied: nvidia-nvtx-cu12==12.4.127 in /usr/local/lib/python3.11/dist-packages (from torch) (12.4.127)\n",
            "Requirement already satisfied: nvidia-nvjitlink-cu12==12.4.127 in /usr/local/lib/python3.11/dist-packages (from torch) (12.4.127)\n",
            "Requirement already satisfied: triton==3.2.0 in /usr/local/lib/python3.11/dist-packages (from torch) (3.2.0)\n",
            "Requirement already satisfied: sympy==1.13.1 in /usr/local/lib/python3.11/dist-packages (from torch) (1.13.1)\n",
            "Requirement already satisfied: mpmath<1.4,>=1.1.0 in /usr/local/lib/python3.11/dist-packages (from sympy==1.13.1->torch) (1.3.0)\n",
            "Requirement already satisfied: MarkupSafe>=2.0 in /usr/local/lib/python3.11/dist-packages (from jinja2->torch) (3.0.2)\n",
            "Collecting sklearn\n",
            "  Using cached sklearn-0.0.post12.tar.gz (2.6 kB)\n",
            "  \u001b[1;31merror\u001b[0m: \u001b[1msubprocess-exited-with-error\u001b[0m\n",
            "  \n",
            "  \u001b[31m×\u001b[0m \u001b[32mpython setup.py egg_info\u001b[0m did not run successfully.\n",
            "  \u001b[31m│\u001b[0m exit code: \u001b[1;36m1\u001b[0m\n",
            "  \u001b[31m╰─>\u001b[0m See above for output.\n",
            "  \n",
            "  \u001b[1;35mnote\u001b[0m: This error originates from a subprocess, and is likely not a problem with pip.\n",
            "  Preparing metadata (setup.py) ... \u001b[?25l\u001b[?25herror\n",
            "\u001b[1;31merror\u001b[0m: \u001b[1mmetadata-generation-failed\u001b[0m\n",
            "\n",
            "\u001b[31m×\u001b[0m Encountered error while generating package metadata.\n",
            "\u001b[31m╰─>\u001b[0m See above for output.\n",
            "\n",
            "\u001b[1;35mnote\u001b[0m: This is an issue with the package mentioned above, not pip.\n",
            "\u001b[1;36mhint\u001b[0m: See above for details.\n",
            "Requirement already satisfied: scipy in /usr/local/lib/python3.11/dist-packages (1.14.1)\n",
            "Requirement already satisfied: numpy<2.3,>=1.23.5 in /usr/local/lib/python3.11/dist-packages (from scipy) (2.0.2)\n"
          ]
        }
      ]
    },
    {
      "cell_type": "markdown",
      "source": [
        "# Sampling the most important dataset files"
      ],
      "metadata": {
        "id": "XSdg8mv7W8g0"
      }
    },
    {
      "cell_type": "code",
      "source": [
        "\n",
        "#This code didn't work with NOTEEVENTS.csv because it is too large.\n",
        "#The following cell for NOTEEVENTS.csv\n",
        "\n",
        "# Define the list of CSV file paths\n",
        "csv_files = [\n",
        "    \"ADMISSIONS.csv\",  \"DIAGNOSES_ICD.csv\",\"ICUSTAYS.csv\", \"PATIENTS.csv\"\n",
        "]\n",
        "\n",
        "# File path for PATIENTS.csv\n",
        "patients_path = f\"{PATH_TO_ORIG_CSVs}/PATIENTS.csv\"\n",
        "\n",
        "# Step 1: Load the specific subject_id's from PATIENTS.csv\n",
        "# Let's say you want to select a random sample of 5% of subject_id's from NOTEEVENTS.csv\n",
        "df_patients = pd.read_csv(patients_path)\n",
        "\n",
        "# Randomly sample 5% of unique subject_ids (you can adjust this as needed)\n",
        "subject_ids_to_use = df_patients['SUBJECT_ID'].dropna().unique()  # Get unique subject_ids\n",
        "subject_ids_to_use = random.sample(list(subject_ids_to_use), int(len(subject_ids_to_use) * 0.05))  # Randomly select 5%\n",
        "\n",
        "# Step 2: Loop over all CSV files and filter rows with matching subject_id\n",
        "filtered_data = {}  # Store filtered DataFrames for each CSV file\n",
        "\n",
        "for csv_file in csv_files:\n",
        "    try:\n",
        "        # Read the CSV file\n",
        "        df = pd.read_csv(f\"{PATH_TO_ORIG_CSVs}/{csv_file}\")\n",
        "\n",
        "        # Check if 'subject_id' column exists in the current CSV\n",
        "        if 'SUBJECT_ID' in df.columns:\n",
        "            # Filter rows with subject_id matching the selected ones\n",
        "            df_filtered = df[df['SUBJECT_ID'].isin(subject_ids_to_use)]\n",
        "\n",
        "            # Store the filtered DataFrame in the dictionary\n",
        "            filtered_data[csv_file] = df_filtered\n",
        "\n",
        "            # Drop duplicate rows\n",
        "            filtered_data[csv_file] = filtered_data[csv_file].drop_duplicates()\n",
        "\n",
        "            # Optionally save the filtered data to new CSV files\n",
        "            filtered_data[csv_file].to_csv(f\"{PATH_TO_SAMPLED_CSVs}/sampled_{csv_file}\", index=False)\n",
        "\n",
        "    except Exception as e:\n",
        "        print(f\"Could not process {csv_file}: {e}\")\n",
        "\n",
        "# You now have filtered data for all CSV files with the common subject_id\n",
        "print(\"Filtered data from all CSVs with common subject_id has been saved.\")\n"
      ],
      "metadata": {
        "colab": {
          "base_uri": "https://localhost:8080/"
        },
        "id": "RT5wy0cbW-v6",
        "outputId": "d3b03a1a-e50e-400f-866e-91835599f573"
      },
      "execution_count": null,
      "outputs": [
        {
          "output_type": "stream",
          "name": "stdout",
          "text": [
            "Filtered data from all CSVs with common subject_id has been saved.\n"
          ]
        }
      ]
    },
    {
      "cell_type": "code",
      "source": [
        "# Define the list of CSV file paths\n",
        "# csv_files = [\n",
        "#     \"ADMISSIONS.csv\", \"CAREGIVERS.csv\", \"CHARTEVENTS.csv\", \"CPTEVENTS.csv\", \"DATETIMEEVENTS.csv\",\n",
        "#     \"DIAGNOSES_ICD.csv\", \"D_CPT.csv\", \"D_ICD_DIAGNOSES.csv\", \"D_ICD_PROCEDURES.csv\", \"D_ITEMS.csv\",\n",
        "#     \"D_LABITEMS.csv\", \"DRGCODES.csv\", \"ICUSTAYS.csv\", \"INPUTEVENTS_CV.csv\", \"INPUTEVENTS_MV.csv\",\n",
        "#     \"LABEVENTS.csv\", \"MICROBIOLOGYEVENTS.csv\", \"NOTEEVENTS.csv\", \"OUTPUTEVENTS.csv\", \"PATIENTS.csv\",\n",
        "#     \"PRESCRIPTIONS.csv\", \"PROCEDUREEVENTS_MV.csv\", \"PROCEDURES_ICD.csv\", \"SERVICES.csv\", \"TRANSFERS.csv\"\n",
        "# ]"
      ],
      "metadata": {
        "id": "fs-qnGO5ZUyf"
      },
      "execution_count": null,
      "outputs": []
    },
    {
      "cell_type": "code",
      "source": [
        "sampled_patients = pd.read_csv(f\"{PATH_TO_SAMPLED_CSVs}/sampled_PATIENTS.csv\")\n",
        "sampled_patients.shape"
      ],
      "metadata": {
        "colab": {
          "base_uri": "https://localhost:8080/"
        },
        "id": "UAu4Orlyq6pI",
        "outputId": "2c5f5e03-c4c3-4c92-88d7-993e9abf27ae"
      },
      "execution_count": null,
      "outputs": [
        {
          "output_type": "execute_result",
          "data": {
            "text/plain": [
              "(2326, 8)"
            ]
          },
          "metadata": {},
          "execution_count": 43
        }
      ]
    },
    {
      "cell_type": "code",
      "source": [
        "sampled_admisions = pd.read_csv(f\"{PATH_TO_SAMPLED_CSVs}/sampled_ADMISSIONS.csv\")\n",
        "sampled_admisions.shape"
      ],
      "metadata": {
        "colab": {
          "base_uri": "https://localhost:8080/"
        },
        "id": "egdv_CIkm-BU",
        "outputId": "75046e50-46e6-4dac-ef55-095c977b33c3"
      },
      "execution_count": null,
      "outputs": [
        {
          "output_type": "execute_result",
          "data": {
            "text/plain": [
              "(2950, 19)"
            ]
          },
          "metadata": {},
          "execution_count": 44
        }
      ]
    },
    {
      "cell_type": "code",
      "source": [
        "import pandas as pd\n",
        "\n",
        "# Define file path\n",
        "file_path = f\"{PATH_TO_SAMPLED_CSVs}/sampled_ADMISSIONS.csv\"\n",
        "\n",
        "# Load the data\n",
        "df_admissions = pd.read_csv(file_path)\n",
        "\n",
        "# Count unique SUBJECT_IDs\n",
        "num_unique_subjects = df_admissions[\"SUBJECT_ID\"].nunique()\n",
        "\n",
        "print(f\"Number of unique subjects in sampled admissions file: {num_unique_subjects}\")"
      ],
      "metadata": {
        "colab": {
          "base_uri": "https://localhost:8080/"
        },
        "id": "HiznUMYYJFFR",
        "outputId": "09debc0f-155a-4ddd-f302-7c0d9de1f8c4"
      },
      "execution_count": null,
      "outputs": [
        {
          "output_type": "stream",
          "name": "stdout",
          "text": [
            "Number of unique subjects in sampled admissions file: 2326\n"
          ]
        }
      ]
    },
    {
      "cell_type": "code",
      "source": [
        "sampled_diag_icd = pd.read_csv(f\"{PATH_TO_SAMPLED_CSVs}/sampled_DIAGNOSES_ICD.csv\")\n",
        "sampled_diag_icd.shape"
      ],
      "metadata": {
        "colab": {
          "base_uri": "https://localhost:8080/"
        },
        "id": "RcssrvBRn9MB",
        "outputId": "9851a69f-52b2-4caa-faf9-caed49ec7994"
      },
      "execution_count": null,
      "outputs": [
        {
          "output_type": "execute_result",
          "data": {
            "text/plain": [
              "(32090, 5)"
            ]
          },
          "metadata": {},
          "execution_count": 46
        }
      ]
    },
    {
      "cell_type": "code",
      "source": [
        "# Define file path\n",
        "file_path = f\"{PATH_TO_SAMPLED_CSVs}/sampled_DIAGNOSES_ICD.csv\"\n",
        "\n",
        "# Load the data\n",
        "df_admissions = pd.read_csv(file_path)\n",
        "\n",
        "# Count unique SUBJECT_IDs\n",
        "num_unique_subjects = df_admissions[\"SUBJECT_ID\"].nunique()\n",
        "\n",
        "print(f\"Number of unique subjects in sampled diagnoses file: {num_unique_subjects}\")"
      ],
      "metadata": {
        "colab": {
          "base_uri": "https://localhost:8080/"
        },
        "id": "7RmD6WlGJZ6C",
        "outputId": "fdfc9823-763b-4c88-fbe9-51bb29bcfcc6"
      },
      "execution_count": null,
      "outputs": [
        {
          "output_type": "stream",
          "name": "stdout",
          "text": [
            "Number of unique subjects in sampled diagnoses file: 2326\n"
          ]
        }
      ]
    },
    {
      "cell_type": "code",
      "source": [
        "sampled_icustays = pd.read_csv(f\"{PATH_TO_SAMPLED_CSVs}/sampled_ICUSTAYS.csv\")\n",
        "sampled_icustays.shape\n"
      ],
      "metadata": {
        "colab": {
          "base_uri": "https://localhost:8080/"
        },
        "id": "zotlukQan9V7",
        "outputId": "08d0b256-a381-4dc3-d747-1f7ed746ce95"
      },
      "execution_count": null,
      "outputs": [
        {
          "output_type": "execute_result",
          "data": {
            "text/plain": [
              "(3092, 12)"
            ]
          },
          "metadata": {},
          "execution_count": 48
        }
      ]
    },
    {
      "cell_type": "code",
      "source": [
        "# Define file path\n",
        "file_path = f\"{PATH_TO_SAMPLED_CSVs}/sampled_ICUSTAYS.csv\"\n",
        "\n",
        "# Load the data\n",
        "df_admissions = pd.read_csv(file_path)\n",
        "\n",
        "# Count unique SUBJECT_IDs\n",
        "num_unique_subjects = df_admissions[\"SUBJECT_ID\"].nunique()\n",
        "\n",
        "print(f\"Number of unique subjects in sampled icu stays file: {num_unique_subjects}\")"
      ],
      "metadata": {
        "colab": {
          "base_uri": "https://localhost:8080/"
        },
        "id": "3pgO9YYLJexw",
        "outputId": "6c8844e3-4793-4abf-c20a-c66071f16b14"
      },
      "execution_count": null,
      "outputs": [
        {
          "output_type": "stream",
          "name": "stdout",
          "text": [
            "Number of unique subjects in sampled icu stays file: 2325\n"
          ]
        }
      ]
    },
    {
      "cell_type": "markdown",
      "source": [
        "Sampling NOTEEVENTS again, for subjects within sampled_PATIENTS.csv"
      ],
      "metadata": {
        "id": "dHD4yBCqsG6p"
      }
    },
    {
      "cell_type": "markdown",
      "source": [
        "# NOTEEVENTS\n",
        "To implement this pipeline, follow these steps:\n",
        "\n",
        "1. Preprocess the MIMIC-III NOTEEVENTS.csv dataset\n",
        "Extract clinical notes\n",
        "\n",
        "Tokenize and preprocess the text\n",
        "\n",
        "Train a ClinicalBERT model using SciBERT as the base model\n",
        "\n",
        "2. Train Classifiers for 57 Finetuning Tasks\n",
        "Define 57 binary classification tasks\n",
        "\n",
        "Use pretrained embeddings from ClinicalBERT\n",
        "\n",
        "Train classifiers (e.g., Logistic Regression, MLP, or Transformer-based models)\n",
        "\n",
        "3. Evaluate Discrepancy Gaps\n",
        "Compute fairness metrics (Section 4.2)\n",
        "\n",
        "Use bootstrapping (1000 samples) on the test set\n",
        "\n",
        "Establish 95% confidence intervals\n",
        "\n",
        "Count statistically significant gaps per protected group"
      ],
      "metadata": {
        "id": "ixQ43D1ajvoK"
      }
    },
    {
      "cell_type": "code",
      "source": [
        "import pandas as pd\n",
        "\n",
        "# Define file paths\n",
        "patients_file = f\"{PATH_TO_SAMPLED_CSVs}/sampled_PATIENTS.csv\"\n",
        "noteevents_file = f\"{PATH_TO_ORIG_CSVs}/NOTEEVENTS.csv\"\n",
        "output_file = f\"{PATH_TO_SAMPLED_CSVs}/sampled_NOTEEVENTS.csv\"\n",
        "\n",
        "# Load sampled patients file\n",
        "df_patients = pd.read_csv(patients_file)\n",
        "\n",
        "# Extract unique SUBJECT_IDs from sampled patients\n",
        "subject_ids_to_keep = set(df_patients[\"SUBJECT_ID\"].dropna().unique())\n",
        "\n",
        "# Define chunk size (adjust based on available memory)\n",
        "chunk_size = 100000  # Number of rows per chunk\n",
        "\n",
        "# Open output file and write only the filtered rows\n",
        "with pd.read_csv(noteevents_file, chunksize=chunk_size) as reader:\n",
        "    for i, chunk in enumerate(reader):\n",
        "        # Filter rows where SUBJECT_ID is in the sampled list\n",
        "        chunk_filtered = chunk[chunk[\"SUBJECT_ID\"].isin(subject_ids_to_keep)]\n",
        "\n",
        "        # Write the filtered data to a new file (append mode for subsequent chunks)\n",
        "        chunk_filtered.to_csv(output_file, mode=\"a\", index=False, header=(i == 0))\n",
        "\n",
        "print(\"Filtered NOTEEVENTS.csv has been saved as sampled_NOTEEVENTS.csv\")"
      ],
      "metadata": {
        "colab": {
          "base_uri": "https://localhost:8080/"
        },
        "id": "YxzgbIkXr2jA",
        "outputId": "710ee7ce-0881-4c00-b264-ab9f843a851e"
      },
      "execution_count": null,
      "outputs": [
        {
          "output_type": "stream",
          "name": "stderr",
          "text": [
            "<ipython-input-37-8a34831cd6a3>:19: DtypeWarning: Columns (5) have mixed types. Specify dtype option on import or set low_memory=False.\n",
            "  for i, chunk in enumerate(reader):\n"
          ]
        },
        {
          "output_type": "stream",
          "name": "stdout",
          "text": [
            "Filtered NOTEEVENTS.csv has been saved as sampled_NOTEEVENTS.csv\n"
          ]
        }
      ]
    },
    {
      "cell_type": "code",
      "source": [
        "sampled_noteevents = pd.read_csv(f\"{PATH_TO_SAMPLED_CSVs}/sampled_NOTEEVENTS.csv\")\n",
        "sampled_noteevents.shape"
      ],
      "metadata": {
        "colab": {
          "base_uri": "https://localhost:8080/"
        },
        "id": "wKgDtnfyuUEy",
        "outputId": "95d840e6-e45e-4815-d999-5580f44ed16d"
      },
      "execution_count": null,
      "outputs": [
        {
          "output_type": "execute_result",
          "data": {
            "text/plain": [
              "(108216, 11)"
            ]
          },
          "metadata": {},
          "execution_count": 50
        }
      ]
    },
    {
      "cell_type": "code",
      "source": [
        "import pandas as pd\n",
        "\n",
        "# Define file path\n",
        "file_path = f\"{PATH_TO_SAMPLED_CSVs}/sampled_NOTEEVENTS.csv\"\n",
        "\n",
        "# Load the data\n",
        "df_admissions = pd.read_csv(file_path)\n",
        "\n",
        "# Count unique SUBJECT_IDs\n",
        "num_unique_subjects = df_admissions[\"SUBJECT_ID\"].nunique()\n",
        "\n",
        "print(f\"Number of unique subjects in sampled noteevents file: {num_unique_subjects}\")"
      ],
      "metadata": {
        "colab": {
          "base_uri": "https://localhost:8080/"
        },
        "id": "hV4ytCYBuWJj",
        "outputId": "db8826c5-729d-4a4d-cc19-ef4b966c77d4"
      },
      "execution_count": null,
      "outputs": [
        {
          "output_type": "stream",
          "name": "stdout",
          "text": [
            "Number of unique subjects in sampled noteevents file: 2303\n"
          ]
        }
      ]
    },
    {
      "cell_type": "markdown",
      "source": [
        "#Example of using SciBERT"
      ],
      "metadata": {
        "id": "mLuELAk6wxq2"
      }
    },
    {
      "cell_type": "markdown",
      "source": [
        "# 1. Import SciBERT from Hugging Face\n",
        "SciBERT is available via the Hugging Face model hub, which is a BERT-based model pre-trained on scientific literature. You can load it using the transformers library.\n"
      ],
      "metadata": {
        "id": "6lQVuPGGRQHh"
      }
    },
    {
      "cell_type": "code",
      "source": [
        "from transformers import AutoTokenizer, AutoModel\n",
        "import torch\n",
        "\n",
        "# Load SciBERT model (trained on scientific text) for embedding\n",
        "model_name = \"allenai/scibert_scivocab_uncased\"\n",
        "tokenizer = AutoTokenizer.from_pretrained(model_name)\n",
        "model = AutoModel.from_pretrained(model_name)\n",
        "\n"
      ],
      "metadata": {
        "colab": {
          "base_uri": "https://localhost:8080/",
          "height": 237,
          "referenced_widgets": [
            "060ec96231f94bcea0e4369e67aa90c3",
            "5639604af3b54baaab54cc83bdb51d95",
            "dd29d5bf92744b7081ff0e7a9d8dbcd2",
            "54899f66a53345a7b3c7784b59a50e16",
            "964b075f062b4d879e7eb342d43c6c73",
            "8084e5748f924a88992082964e1bfd01",
            "489af287199f4e0d8806e3ea5ef18d04",
            "588816143b4f4fbb9b30976efa500914",
            "f6664282093f44c881f77b47548f6556",
            "a51bda75a9b44bc985bb58874f2e5d77",
            "fefd8422ed554ae5b618f4cd4c3aed8e",
            "2ec8927f942e4af99383506cae6dc1d4",
            "287bf15179ba4c9190151d767b077cff",
            "29bb47617ea9409da1df1366fd6c1b60",
            "6422f6a0bcda421b8f83bc87feedd542",
            "94eb02e48fc34a3abe5044841b18e69d",
            "9210805e26b74737841c2d46cd593a0a",
            "0f34fbe866b54c42864e6196b450df34",
            "e7d7360dad38437d873aa01ff5eb8a82",
            "0529fd7ad7f7474cba671274b7527c61",
            "d555570c927942a9b098c4ccb28fb7c7",
            "401d00ec4062465c94b316749860b0ec",
            "6889532d0d7e4298b8f2e4d1910da1c3",
            "d60044db69f44648bca9ff1b4f153c4b",
            "9bc64986f9fd4daeb90dac571d5378d2",
            "2b452443823d4fdfae95850db6438089",
            "ffc489fd6aa44b4db4f9ccb54d0b923e",
            "858d799a83e3423a8c50a59589aa8759",
            "bd6c1bc4cc984438b9984c88216893e2",
            "f5eee02f5d664c38910314f47caa6edc",
            "0e05ffcc70344fbe91174ac892b88a39",
            "04123dedca09455b9032a07233962d74",
            "c30dc46cb0894bf79554673d62343202"
          ]
        },
        "id": "A3CMKYirPh4R",
        "outputId": "6d4d9507-dcb2-4c85-c10d-2a9695f03096"
      },
      "execution_count": null,
      "outputs": [
        {
          "output_type": "stream",
          "name": "stderr",
          "text": [
            "/usr/local/lib/python3.11/dist-packages/huggingface_hub/utils/_auth.py:94: UserWarning: \n",
            "The secret `HF_TOKEN` does not exist in your Colab secrets.\n",
            "To authenticate with the Hugging Face Hub, create a token in your settings tab (https://huggingface.co/settings/tokens), set it as secret in your Google Colab and restart your session.\n",
            "You will be able to reuse this secret in all of your notebooks.\n",
            "Please note that authentication is recommended but still optional to access public models or datasets.\n",
            "  warnings.warn(\n"
          ]
        },
        {
          "output_type": "display_data",
          "data": {
            "text/plain": [
              "config.json:   0%|          | 0.00/385 [00:00<?, ?B/s]"
            ],
            "application/vnd.jupyter.widget-view+json": {
              "version_major": 2,
              "version_minor": 0,
              "model_id": "060ec96231f94bcea0e4369e67aa90c3"
            }
          },
          "metadata": {}
        },
        {
          "output_type": "display_data",
          "data": {
            "text/plain": [
              "vocab.txt:   0%|          | 0.00/228k [00:00<?, ?B/s]"
            ],
            "application/vnd.jupyter.widget-view+json": {
              "version_major": 2,
              "version_minor": 0,
              "model_id": "2ec8927f942e4af99383506cae6dc1d4"
            }
          },
          "metadata": {}
        },
        {
          "output_type": "display_data",
          "data": {
            "text/plain": [
              "pytorch_model.bin:   0%|          | 0.00/442M [00:00<?, ?B/s]"
            ],
            "application/vnd.jupyter.widget-view+json": {
              "version_major": 2,
              "version_minor": 0,
              "model_id": "6889532d0d7e4298b8f2e4d1910da1c3"
            }
          },
          "metadata": {}
        }
      ]
    },
    {
      "cell_type": "markdown",
      "source": [
        "# 2. Gets Word Embeddings:\n",
        " We tokenize and convert words into embeddings using SciBERT. The embeddings represent the semantic meaning of the word in a high-dimensional vector space.\n",
        "\n"
      ],
      "metadata": {
        "id": "Y16ibzndTrRN"
      }
    },
    {
      "cell_type": "code",
      "source": [
        "# Function to get embedding for a word\n",
        "def get_embedding(word):\n",
        "    inputs = tokenizer(word, return_tensors='pt', padding=True, truncation=True)\n",
        "    with torch.no_grad():\n",
        "        outputs = model(**inputs)\n",
        "    embedding = outputs.last_hidden_state.mean(dim=1).squeeze()  # Average embedding of tokens\n",
        "    return embedding\n",
        "\n",
        "# Example: Get embedding for the word 'diabetes'\n",
        "word = \"diabetes\"\n",
        "embedding = get_embedding(word)\n",
        "print(embedding)\n"
      ],
      "metadata": {
        "id": "0PC4o9tSTrnt",
        "colab": {
          "base_uri": "https://localhost:8080/",
          "height": 315
        },
        "outputId": "4c1c38f1-9b37-43f7-d0c2-d09876bab676"
      },
      "execution_count": null,
      "outputs": [
        {
          "output_type": "error",
          "ename": "NameError",
          "evalue": "name 'tokenizer' is not defined",
          "traceback": [
            "\u001b[0;31m---------------------------------------------------------------------------\u001b[0m",
            "\u001b[0;31mNameError\u001b[0m                                 Traceback (most recent call last)",
            "\u001b[0;32m<ipython-input-1-5582f1f8462e>\u001b[0m in \u001b[0;36m<cell line: 0>\u001b[0;34m()\u001b[0m\n\u001b[1;32m      9\u001b[0m \u001b[0;31m# Example: Get embedding for the word 'diabetes'\u001b[0m\u001b[0;34m\u001b[0m\u001b[0;34m\u001b[0m\u001b[0m\n\u001b[1;32m     10\u001b[0m \u001b[0mword\u001b[0m \u001b[0;34m=\u001b[0m \u001b[0;34m\"diabetes\"\u001b[0m\u001b[0;34m\u001b[0m\u001b[0;34m\u001b[0m\u001b[0m\n\u001b[0;32m---> 11\u001b[0;31m \u001b[0membedding\u001b[0m \u001b[0;34m=\u001b[0m \u001b[0mget_embedding\u001b[0m\u001b[0;34m(\u001b[0m\u001b[0mword\u001b[0m\u001b[0;34m)\u001b[0m\u001b[0;34m\u001b[0m\u001b[0;34m\u001b[0m\u001b[0m\n\u001b[0m\u001b[1;32m     12\u001b[0m \u001b[0mprint\u001b[0m\u001b[0;34m(\u001b[0m\u001b[0membedding\u001b[0m\u001b[0;34m)\u001b[0m\u001b[0;34m\u001b[0m\u001b[0;34m\u001b[0m\u001b[0m\n",
            "\u001b[0;32m<ipython-input-1-5582f1f8462e>\u001b[0m in \u001b[0;36mget_embedding\u001b[0;34m(word)\u001b[0m\n\u001b[1;32m      1\u001b[0m \u001b[0;31m# Function to get embedding for a word\u001b[0m\u001b[0;34m\u001b[0m\u001b[0;34m\u001b[0m\u001b[0m\n\u001b[1;32m      2\u001b[0m \u001b[0;32mdef\u001b[0m \u001b[0mget_embedding\u001b[0m\u001b[0;34m(\u001b[0m\u001b[0mword\u001b[0m\u001b[0;34m)\u001b[0m\u001b[0;34m:\u001b[0m\u001b[0;34m\u001b[0m\u001b[0;34m\u001b[0m\u001b[0m\n\u001b[0;32m----> 3\u001b[0;31m     \u001b[0minputs\u001b[0m \u001b[0;34m=\u001b[0m \u001b[0mtokenizer\u001b[0m\u001b[0;34m(\u001b[0m\u001b[0mword\u001b[0m\u001b[0;34m,\u001b[0m \u001b[0mreturn_tensors\u001b[0m\u001b[0;34m=\u001b[0m\u001b[0;34m'pt'\u001b[0m\u001b[0;34m,\u001b[0m \u001b[0mpadding\u001b[0m\u001b[0;34m=\u001b[0m\u001b[0;32mTrue\u001b[0m\u001b[0;34m,\u001b[0m \u001b[0mtruncation\u001b[0m\u001b[0;34m=\u001b[0m\u001b[0;32mTrue\u001b[0m\u001b[0;34m)\u001b[0m\u001b[0;34m\u001b[0m\u001b[0;34m\u001b[0m\u001b[0m\n\u001b[0m\u001b[1;32m      4\u001b[0m     \u001b[0;32mwith\u001b[0m \u001b[0mtorch\u001b[0m\u001b[0;34m.\u001b[0m\u001b[0mno_grad\u001b[0m\u001b[0;34m(\u001b[0m\u001b[0;34m)\u001b[0m\u001b[0;34m:\u001b[0m\u001b[0;34m\u001b[0m\u001b[0;34m\u001b[0m\u001b[0m\n\u001b[1;32m      5\u001b[0m         \u001b[0moutputs\u001b[0m \u001b[0;34m=\u001b[0m \u001b[0mmodel\u001b[0m\u001b[0;34m(\u001b[0m\u001b[0;34m**\u001b[0m\u001b[0minputs\u001b[0m\u001b[0;34m)\u001b[0m\u001b[0;34m\u001b[0m\u001b[0;34m\u001b[0m\u001b[0m\n",
            "\u001b[0;31mNameError\u001b[0m: name 'tokenizer' is not defined"
          ]
        }
      ]
    },
    {
      "cell_type": "markdown",
      "source": [
        "#3. Define Bias-Related Terms\n",
        "You will want to measure how biased words (e.g., gendered terms or other sensitive terms) are with respect to clinical terms. Below is an example of how to define your sensitive words.\n"
      ],
      "metadata": {
        "id": "ZcStyKW6R_WE"
      }
    },
    {
      "cell_type": "code",
      "source": [
        "# Example bias-related words (e.g., gendered words)\n",
        "gendered_terms = ['he', 'she', 'man', 'woman', 'male', 'female']\n",
        "\n",
        "# Example clinical terms (e.g., disease names)\n",
        "clinical_terms = ['diabetes', 'hypertension', 'cancer', 'asthma', 'stroke']"
      ],
      "metadata": {
        "id": "qUofDN6LSUbS"
      },
      "execution_count": null,
      "outputs": []
    },
    {
      "cell_type": "markdown",
      "source": [
        "#4. Calculate Cosine Similarity Between Embeddings\n",
        "You will calculate cosine similarity between the embeddings of clinical terms and the bias-related terms (e.g., gendered terms)."
      ],
      "metadata": {
        "id": "4FF1iVx2SZ6o"
      }
    },
    {
      "cell_type": "code",
      "source": [
        "from sklearn.metrics.pairwise import cosine_similarity\n",
        "\n",
        "def calculate_bias(embedding1, embedding2):\n",
        "    similarity = cosine_similarity(embedding1.unsqueeze(0), embedding2.unsqueeze(0))\n",
        "    return similarity[0][0]\n",
        "\n",
        "# Function to measure bias for clinical terms with respect to bias terms\n",
        "def measure_bias_for_terms(target_terms, bias_terms):\n",
        "    biases = {}\n",
        "    for target_word in target_terms:\n",
        "        target_embedding = get_embedding(target_word)\n",
        "        bias_scores = []\n",
        "        for bias_word in bias_terms:\n",
        "            bias_embedding = get_embedding(bias_word)\n",
        "            similarity_score = calculate_bias(target_embedding, bias_embedding)\n",
        "            bias_scores.append(similarity_score)\n",
        "        biases[target_word] = np.mean(bias_scores)\n",
        "    return biases\n",
        "\n",
        "# Measure bias for clinical terms\n",
        "bias_scores = measure_bias_for_terms(clinical_terms, gendered_terms)\n",
        "print(\"Bias Scores for Clinical Terms:\", bias_scores)\n"
      ],
      "metadata": {
        "colab": {
          "base_uri": "https://localhost:8080/"
        },
        "id": "QHwRnd-zSccJ",
        "outputId": "29aa76e6-8936-4c19-b695-c137fd857b04"
      },
      "execution_count": null,
      "outputs": [
        {
          "output_type": "stream",
          "name": "stdout",
          "text": [
            "Bias Scores for Clinical Terms: {'diabetes': np.float32(0.7240486), 'hypertension': np.float32(0.6840543), 'cancer': np.float32(0.7252037), 'asthma': np.float32(0.73712355), 'stroke': np.float32(0.7301764)}\n"
          ]
        }
      ]
    },
    {
      "cell_type": "markdown",
      "source": [
        "# Visualize the Results\n",
        "Once you calculate the bias scores, it's useful to visualize them to see which terms have higher bias. We can use a bar chart for this."
      ],
      "metadata": {
        "id": "xZsx-hguS2uB"
      }
    },
    {
      "cell_type": "code",
      "source": [
        "import matplotlib.pyplot as plt\n",
        "\n",
        "def plot_bias_scores(bias_scores):\n",
        "    terms = list(bias_scores.keys())\n",
        "    scores = list(bias_scores.values())\n",
        "    plt.barh(terms, scores, color='blue')\n",
        "    plt.xlabel('Bias Score')\n",
        "    plt.title('Bias Quantification of Clinical Terms (SciBERT)')\n",
        "    plt.show()\n",
        "\n",
        "# Plot the bias scores for clinical terms\n",
        "plot_bias_scores(bias_scores)\n"
      ],
      "metadata": {
        "colab": {
          "base_uri": "https://localhost:8080/",
          "height": 472
        },
        "id": "Z46qBztNS34D",
        "outputId": "5a8df13c-883c-4264-94bd-313560def81f"
      },
      "execution_count": null,
      "outputs": [
        {
          "output_type": "display_data",
          "data": {
            "text/plain": [
              "<Figure size 640x480 with 1 Axes>"
            ],
            "image/png": "[encoded data removed]"
          },
          "metadata": {}
        }
      ]
    }
  ],
  "metadata": {
    "accelerator": "GPU",
    "colab": {
      "gpuType": "T4",
      "provenance": [],
      "include_colab_link": true
    },
    "kernelspec": {
      "display_name": "Python 3",
      "name": "python3"
    },
    "language_info": {
      "name": "python"
    },
    "widgets": {
      "application/vnd.jupyter.widget-state+json": {
        "060ec96231f94bcea0e4369e67aa90c3": {
          "model_module": "@jupyter-widgets/controls",
          "model_name": "HBoxModel",
          "model_module_version": "1.5.0",
          "state": {
            "_dom_classes": [],
            "_model_module": "@jupyter-widgets/controls",
            "_model_module_version": "1.5.0",
            "_model_name": "HBoxModel",
            "_view_count": null,
            "_view_module": "@jupyter-widgets/controls",
            "_view_module_version": "1.5.0",
            "_view_name": "HBoxView",
            "box_style": "",
            "children": [
              "IPY_MODEL_5639604af3b54baaab54cc83bdb51d95",
              "IPY_MODEL_dd29d5bf92744b7081ff0e7a9d8dbcd2",
              "IPY_MODEL_54899f66a53345a7b3c7784b59a50e16"
            ],
            "layout": "IPY_MODEL_964b075f062b4d879e7eb342d43c6c73"
          }
        },
        "5639604af3b54baaab54cc83bdb51d95": {
          "model_module": "@jupyter-widgets/controls",
          "model_name": "HTMLModel",
          "model_module_version": "1.5.0",
          "state": {
            "_dom_classes": [],
            "_model_module": "@jupyter-widgets/controls",
            "_model_module_version": "1.5.0",
            "_model_name": "HTMLModel",
            "_view_count": null,
            "_view_module": "@jupyter-widgets/controls",
            "_view_module_version": "1.5.0",
            "_view_name": "HTMLView",
            "description": "",
            "description_tooltip": null,
            "layout": "IPY_MODEL_8084e5748f924a88992082964e1bfd01",
            "placeholder": "​",
            "style": "IPY_MODEL_489af287199f4e0d8806e3ea5ef18d04",
            "value": "config.json: 100%"
          }
        },
        "dd29d5bf92744b7081ff0e7a9d8dbcd2": {
          "model_module": "@jupyter-widgets/controls",
          "model_name": "FloatProgressModel",
          "model_module_version": "1.5.0",
          "state": {
            "_dom_classes": [],
            "_model_module": "@jupyter-widgets/controls",
            "_model_module_version": "1.5.0",
            "_model_name": "FloatProgressModel",
            "_view_count": null,
            "_view_module": "@jupyter-widgets/controls",
            "_view_module_version": "1.5.0",
            "_view_name": "ProgressView",
            "bar_style": "success",
            "description": "",
            "description_tooltip": null,
            "layout": "IPY_MODEL_588816143b4f4fbb9b30976efa500914",
            "max": 385,
            "min": 0,
            "orientation": "horizontal",
            "style": "IPY_MODEL_f6664282093f44c881f77b47548f6556",
            "value": 385
          }
        },
        "54899f66a53345a7b3c7784b59a50e16": {
          "model_module": "@jupyter-widgets/controls",
          "model_name": "HTMLModel",
          "model_module_version": "1.5.0",
          "state": {
            "_dom_classes": [],
            "_model_module": "@jupyter-widgets/controls",
            "_model_module_version": "1.5.0",
            "_model_name": "HTMLModel",
            "_view_count": null,
            "_view_module": "@jupyter-widgets/controls",
            "_view_module_version": "1.5.0",
            "_view_name": "HTMLView",
            "description": "",
            "description_tooltip": null,
            "layout": "IPY_MODEL_a51bda75a9b44bc985bb58874f2e5d77",
            "placeholder": "​",
            "style": "IPY_MODEL_fefd8422ed554ae5b618f4cd4c3aed8e",
            "value": " 385/385 [00:00&lt;00:00, 20.5kB/s]"
          }
        },
        "964b075f062b4d879e7eb342d43c6c73": {
          "model_module": "@jupyter-widgets/base",
          "model_name": "LayoutModel",
          "model_module_version": "1.2.0",
          "state": {
            "_model_module": "@jupyter-widgets/base",
            "_model_module_version": "1.2.0",
            "_model_name": "LayoutModel",
            "_view_count": null,
            "_view_module": "@jupyter-widgets/base",
            "_view_module_version": "1.2.0",
            "_view_name": "LayoutView",
            "align_content": null,
            "align_items": null,
            "align_self": null,
            "border": null,
            "bottom": null,
            "display": null,
            "flex": null,
            "flex_flow": null,
            "grid_area": null,
            "grid_auto_columns": null,
            "grid_auto_flow": null,
            "grid_auto_rows": null,
            "grid_column": null,
            "grid_gap": null,
            "grid_row": null,
            "grid_template_areas": null,
            "grid_template_columns": null,
            "grid_template_rows": null,
            "height": null,
            "justify_content": null,
            "justify_items": null,
            "left": null,
            "margin": null,
            "max_height": null,
            "max_width": null,
            "min_height": null,
            "min_width": null,
            "object_fit": null,
            "object_position": null,
            "order": null,
            "overflow": null,
            "overflow_x": null,
            "overflow_y": null,
            "padding": null,
            "right": null,
            "top": null,
            "visibility": null,
            "width": null
          }
        },
        "8084e5748f924a88992082964e1bfd01": {
          "model_module": "@jupyter-widgets/base",
          "model_name": "LayoutModel",
          "model_module_version": "1.2.0",
          "state": {
            "_model_module": "@jupyter-widgets/base",
            "_model_module_version": "1.2.0",
            "_model_name": "LayoutModel",
            "_view_count": null,
            "_view_module": "@jupyter-widgets/base",
            "_view_module_version": "1.2.0",
            "_view_name": "LayoutView",
            "align_content": null,
            "align_items": null,
            "align_self": null,
            "border": null,
            "bottom": null,
            "display": null,
            "flex": null,
            "flex_flow": null,
            "grid_area": null,
            "grid_auto_columns": null,
            "grid_auto_flow": null,
            "grid_auto_rows": null,
            "grid_column": null,
            "grid_gap": null,
            "grid_row": null,
            "grid_template_areas": null,
            "grid_template_columns": null,
            "grid_template_rows": null,
            "height": null,
            "justify_content": null,
            "justify_items": null,
            "left": null,
            "margin": null,
            "max_height": null,
            "max_width": null,
            "min_height": null,
            "min_width": null,
            "object_fit": null,
            "object_position": null,
            "order": null,
            "overflow": null,
            "overflow_x": null,
            "overflow_y": null,
            "padding": null,
            "right": null,
            "top": null,
            "visibility": null,
            "width": null
          }
        },
        "489af287199f4e0d8806e3ea5ef18d04": {
          "model_module": "@jupyter-widgets/controls",
          "model_name": "DescriptionStyleModel",
          "model_module_version": "1.5.0",
          "state": {
            "_model_module": "@jupyter-widgets/controls",
            "_model_module_version": "1.5.0",
            "_model_name": "DescriptionStyleModel",
            "_view_count": null,
            "_view_module": "@jupyter-widgets/base",
            "_view_module_version": "1.2.0",
            "_view_name": "StyleView",
            "description_width": ""
          }
        },
        "588816143b4f4fbb9b30976efa500914": {
          "model_module": "@jupyter-widgets/base",
          "model_name": "LayoutModel",
          "model_module_version": "1.2.0",
          "state": {
            "_model_module": "@jupyter-widgets/base",
            "_model_module_version": "1.2.0",
            "_model_name": "LayoutModel",
            "_view_count": null,
            "_view_module": "@jupyter-widgets/base",
            "_view_module_version": "1.2.0",
            "_view_name": "LayoutView",
            "align_content": null,
            "align_items": null,
            "align_self": null,
            "border": null,
            "bottom": null,
            "display": null,
            "flex": null,
            "flex_flow": null,
            "grid_area": null,
            "grid_auto_columns": null,
            "grid_auto_flow": null,
            "grid_auto_rows": null,
            "grid_column": null,
            "grid_gap": null,
            "grid_row": null,
            "grid_template_areas": null,
            "grid_template_columns": null,
            "grid_template_rows": null,
            "height": null,
            "justify_content": null,
            "justify_items": null,
            "left": null,
            "margin": null,
            "max_height": null,
            "max_width": null,
            "min_height": null,
            "min_width": null,
            "object_fit": null,
            "object_position": null,
            "order": null,
            "overflow": null,
            "overflow_x": null,
            "overflow_y": null,
            "padding": null,
            "right": null,
            "top": null,
            "visibility": null,
            "width": null
          }
        },
        "f6664282093f44c881f77b47548f6556": {
          "model_module": "@jupyter-widgets/controls",
          "model_name": "ProgressStyleModel",
          "model_module_version": "1.5.0",
          "state": {
            "_model_module": "@jupyter-widgets/controls",
            "_model_module_version": "1.5.0",
            "_model_name": "ProgressStyleModel",
            "_view_count": null,
            "_view_module": "@jupyter-widgets/base",
            "_view_module_version": "1.2.0",
            "_view_name": "StyleView",
            "bar_color": null,
            "description_width": ""
          }
        },
        "a51bda75a9b44bc985bb58874f2e5d77": {
          "model_module": "@jupyter-widgets/base",
          "model_name": "LayoutModel",
          "model_module_version": "1.2.0",
          "state": {
            "_model_module": "@jupyter-widgets/base",
            "_model_module_version": "1.2.0",
            "_model_name": "LayoutModel",
            "_view_count": null,
            "_view_module": "@jupyter-widgets/base",
            "_view_module_version": "1.2.0",
            "_view_name": "LayoutView",
            "align_content": null,
            "align_items": null,
            "align_self": null,
            "border": null,
            "bottom": null,
            "display": null,
            "flex": null,
            "flex_flow": null,
            "grid_area": null,
            "grid_auto_columns": null,
            "grid_auto_flow": null,
            "grid_auto_rows": null,
            "grid_column": null,
            "grid_gap": null,
            "grid_row": null,
            "grid_template_areas": null,
            "grid_template_columns": null,
            "grid_template_rows": null,
            "height": null,
            "justify_content": null,
            "justify_items": null,
            "left": null,
            "margin": null,
            "max_height": null,
            "max_width": null,
            "min_height": null,
            "min_width": null,
            "object_fit": null,
            "object_position": null,
            "order": null,
            "overflow": null,
            "overflow_x": null,
            "overflow_y": null,
            "padding": null,
            "right": null,
            "top": null,
            "visibility": null,
            "width": null
          }
        },
        "fefd8422ed554ae5b618f4cd4c3aed8e": {
          "model_module": "@jupyter-widgets/controls",
          "model_name": "DescriptionStyleModel",
          "model_module_version": "1.5.0",
          "state": {
            "_model_module": "@jupyter-widgets/controls",
            "_model_module_version": "1.5.0",
            "_model_name": "DescriptionStyleModel",
            "_view_count": null,
            "_view_module": "@jupyter-widgets/base",
            "_view_module_version": "1.2.0",
            "_view_name": "StyleView",
            "description_width": ""
          }
        },
        "2ec8927f942e4af99383506cae6dc1d4": {
          "model_module": "@jupyter-widgets/controls",
          "model_name": "HBoxModel",
          "model_module_version": "1.5.0",
          "state": {
            "_dom_classes": [],
            "_model_module": "@jupyter-widgets/controls",
            "_model_module_version": "1.5.0",
            "_model_name": "HBoxModel",
            "_view_count": null,
            "_view_module": "@jupyter-widgets/controls",
            "_view_module_version": "1.5.0",
            "_view_name": "HBoxView",
            "box_style": "",
            "children": [
              "IPY_MODEL_287bf15179ba4c9190151d767b077cff",
              "IPY_MODEL_29bb47617ea9409da1df1366fd6c1b60",
              "IPY_MODEL_6422f6a0bcda421b8f83bc87feedd542"
            ],
            "layout": "IPY_MODEL_94eb02e48fc34a3abe5044841b18e69d"
          }
        },
        "287bf15179ba4c9190151d767b077cff": {
          "model_module": "@jupyter-widgets/controls",
          "model_name": "HTMLModel",
          "model_module_version": "1.5.0",
          "state": {
            "_dom_classes": [],
            "_model_module": "@jupyter-widgets/controls",
            "_model_module_version": "1.5.0",
            "_model_name": "HTMLModel",
            "_view_count": null,
            "_view_module": "@jupyter-widgets/controls",
            "_view_module_version": "1.5.0",
            "_view_name": "HTMLView",
            "description": "",
            "description_tooltip": null,
            "layout": "IPY_MODEL_9210805e26b74737841c2d46cd593a0a",
            "placeholder": "​",
            "style": "IPY_MODEL_0f34fbe866b54c42864e6196b450df34",
            "value": "vocab.txt: 100%"
          }
        },
        "29bb47617ea9409da1df1366fd6c1b60": {
          "model_module": "@jupyter-widgets/controls",
          "model_name": "FloatProgressModel",
          "model_module_version": "1.5.0",
          "state": {
            "_dom_classes": [],
            "_model_module": "@jupyter-widgets/controls",
            "_model_module_version": "1.5.0",
            "_model_name": "FloatProgressModel",
            "_view_count": null,
            "_view_module": "@jupyter-widgets/controls",
            "_view_module_version": "1.5.0",
            "_view_name": "ProgressView",
            "bar_style": "success",
            "description": "",
            "description_tooltip": null,
            "layout": "IPY_MODEL_e7d7360dad38437d873aa01ff5eb8a82",
            "max": 227845,
            "min": 0,
            "orientation": "horizontal",
            "style": "IPY_MODEL_0529fd7ad7f7474cba671274b7527c61",
            "value": 227845
          }
        },
        "6422f6a0bcda421b8f83bc87feedd542": {
          "model_module": "@jupyter-widgets/controls",
          "model_name": "HTMLModel",
          "model_module_version": "1.5.0",
          "state": {
            "_dom_classes": [],
            "_model_module": "@jupyter-widgets/controls",
            "_model_module_version": "1.5.0",
            "_model_name": "HTMLModel",
            "_view_count": null,
            "_view_module": "@jupyter-widgets/controls",
            "_view_module_version": "1.5.0",
            "_view_name": "HTMLView",
            "description": "",
            "description_tooltip": null,
            "layout": "IPY_MODEL_d555570c927942a9b098c4ccb28fb7c7",
            "placeholder": "​",
            "style": "IPY_MODEL_401d00ec4062465c94b316749860b0ec",
            "value": " 228k/228k [00:00&lt;00:00, 2.18MB/s]"
          }
        },
        "94eb02e48fc34a3abe5044841b18e69d": {
          "model_module": "@jupyter-widgets/base",
          "model_name": "LayoutModel",
          "model_module_version": "1.2.0",
          "state": {
            "_model_module": "@jupyter-widgets/base",
            "_model_module_version": "1.2.0",
            "_model_name": "LayoutModel",
            "_view_count": null,
            "_view_module": "@jupyter-widgets/base",
            "_view_module_version": "1.2.0",
            "_view_name": "LayoutView",
            "align_content": null,
            "align_items": null,
            "align_self": null,
            "border": null,
            "bottom": null,
            "display": null,
            "flex": null,
            "flex_flow": null,
            "grid_area": null,
            "grid_auto_columns": null,
            "grid_auto_flow": null,
            "grid_auto_rows": null,
            "grid_column": null,
            "grid_gap": null,
            "grid_row": null,
            "grid_template_areas": null,
            "grid_template_columns": null,
            "grid_template_rows": null,
            "height": null,
            "justify_content": null,
            "justify_items": null,
            "left": null,
            "margin": null,
            "max_height": null,
            "max_width": null,
            "min_height": null,
            "min_width": null,
            "object_fit": null,
            "object_position": null,
            "order": null,
            "overflow": null,
            "overflow_x": null,
            "overflow_y": null,
            "padding": null,
            "right": null,
            "top": null,
            "visibility": null,
            "width": null
          }
        },
        "9210805e26b74737841c2d46cd593a0a": {
          "model_module": "@jupyter-widgets/base",
          "model_name": "LayoutModel",
          "model_module_version": "1.2.0",
          "state": {
            "_model_module": "@jupyter-widgets/base",
            "_model_module_version": "1.2.0",
            "_model_name": "LayoutModel",
            "_view_count": null,
            "_view_module": "@jupyter-widgets/base",
            "_view_module_version": "1.2.0",
            "_view_name": "LayoutView",
            "align_content": null,
            "align_items": null,
            "align_self": null,
            "border": null,
            "bottom": null,
            "display": null,
            "flex": null,
            "flex_flow": null,
            "grid_area": null,
            "grid_auto_columns": null,
            "grid_auto_flow": null,
            "grid_auto_rows": null,
            "grid_column": null,
            "grid_gap": null,
            "grid_row": null,
            "grid_template_areas": null,
            "grid_template_columns": null,
            "grid_template_rows": null,
            "height": null,
            "justify_content": null,
            "justify_items": null,
            "left": null,
            "margin": null,
            "max_height": null,
            "max_width": null,
            "min_height": null,
            "min_width": null,
            "object_fit": null,
            "object_position": null,
            "order": null,
            "overflow": null,
            "overflow_x": null,
            "overflow_y": null,
            "padding": null,
            "right": null,
            "top": null,
            "visibility": null,
            "width": null
          }
        },
        "0f34fbe866b54c42864e6196b450df34": {
          "model_module": "@jupyter-widgets/controls",
          "model_name": "DescriptionStyleModel",
          "model_module_version": "1.5.0",
          "state": {
            "_model_module": "@jupyter-widgets/controls",
            "_model_module_version": "1.5.0",
            "_model_name": "DescriptionStyleModel",
            "_view_count": null,
            "_view_module": "@jupyter-widgets/base",
            "_view_module_version": "1.2.0",
            "_view_name": "StyleView",
            "description_width": ""
          }
        },
        "e7d7360dad38437d873aa01ff5eb8a82": {
          "model_module": "@jupyter-widgets/base",
          "model_name": "LayoutModel",
          "model_module_version": "1.2.0",
          "state": {
            "_model_module": "@jupyter-widgets/base",
            "_model_module_version": "1.2.0",
            "_model_name": "LayoutModel",
            "_view_count": null,
            "_view_module": "@jupyter-widgets/base",
            "_view_module_version": "1.2.0",
            "_view_name": "LayoutView",
            "align_content": null,
            "align_items": null,
            "align_self": null,
            "border": null,
            "bottom": null,
            "display": null,
            "flex": null,
            "flex_flow": null,
            "grid_area": null,
            "grid_auto_columns": null,
            "grid_auto_flow": null,
            "grid_auto_rows": null,
            "grid_column": null,
            "grid_gap": null,
            "grid_row": null,
            "grid_template_areas": null,
            "grid_template_columns": null,
            "grid_template_rows": null,
            "height": null,
            "justify_content": null,
            "justify_items": null,
            "left": null,
            "margin": null,
            "max_height": null,
            "max_width": null,
            "min_height": null,
            "min_width": null,
            "object_fit": null,
            "object_position": null,
            "order": null,
            "overflow": null,
            "overflow_x": null,
            "overflow_y": null,
            "padding": null,
            "right": null,
            "top": null,
            "visibility": null,
            "width": null
          }
        },
        "0529fd7ad7f7474cba671274b7527c61": {
          "model_module": "@jupyter-widgets/controls",
          "model_name": "ProgressStyleModel",
          "model_module_version": "1.5.0",
          "state": {
            "_model_module": "@jupyter-widgets/controls",
            "_model_module_version": "1.5.0",
            "_model_name": "ProgressStyleModel",
            "_view_count": null,
            "_view_module": "@jupyter-widgets/base",
            "_view_module_version": "1.2.0",
            "_view_name": "StyleView",
            "bar_color": null,
            "description_width": ""
          }
        },
        "d555570c927942a9b098c4ccb28fb7c7": {
          "model_module": "@jupyter-widgets/base",
          "model_name": "LayoutModel",
          "model_module_version": "1.2.0",
          "state": {
            "_model_module": "@jupyter-widgets/base",
            "_model_module_version": "1.2.0",
            "_model_name": "LayoutModel",
            "_view_count": null,
            "_view_module": "@jupyter-widgets/base",
            "_view_module_version": "1.2.0",
            "_view_name": "LayoutView",
            "align_content": null,
            "align_items": null,
            "align_self": null,
            "border": null,
            "bottom": null,
            "display": null,
            "flex": null,
            "flex_flow": null,
            "grid_area": null,
            "grid_auto_columns": null,
            "grid_auto_flow": null,
            "grid_auto_rows": null,
            "grid_column": null,
            "grid_gap": null,
            "grid_row": null,
            "grid_template_areas": null,
            "grid_template_columns": null,
            "grid_template_rows": null,
            "height": null,
            "justify_content": null,
            "justify_items": null,
            "left": null,
            "margin": null,
            "max_height": null,
            "max_width": null,
            "min_height": null,
            "min_width": null,
            "object_fit": null,
            "object_position": null,
            "order": null,
            "overflow": null,
            "overflow_x": null,
            "overflow_y": null,
            "padding": null,
            "right": null,
            "top": null,
            "visibility": null,
            "width": null
          }
        },
        "401d00ec4062465c94b316749860b0ec": {
          "model_module": "@jupyter-widgets/controls",
          "model_name": "DescriptionStyleModel",
          "model_module_version": "1.5.0",
          "state": {
            "_model_module": "@jupyter-widgets/controls",
            "_model_module_version": "1.5.0",
            "_model_name": "DescriptionStyleModel",
            "_view_count": null,
            "_view_module": "@jupyter-widgets/base",
            "_view_module_version": "1.2.0",
            "_view_name": "StyleView",
            "description_width": ""
          }
        },
        "6889532d0d7e4298b8f2e4d1910da1c3": {
          "model_module": "@jupyter-widgets/controls",
          "model_name": "HBoxModel",
          "model_module_version": "1.5.0",
          "state": {
            "_dom_classes": [],
            "_model_module": "@jupyter-widgets/controls",
            "_model_module_version": "1.5.0",
            "_model_name": "HBoxModel",
            "_view_count": null,
            "_view_module": "@jupyter-widgets/controls",
            "_view_module_version": "1.5.0",
            "_view_name": "HBoxView",
            "box_style": "",
            "children": [
              "IPY_MODEL_d60044db69f44648bca9ff1b4f153c4b",
              "IPY_MODEL_9bc64986f9fd4daeb90dac571d5378d2",
              "IPY_MODEL_2b452443823d4fdfae95850db6438089"
            ],
            "layout": "IPY_MODEL_ffc489fd6aa44b4db4f9ccb54d0b923e"
          }
        },
        "d60044db69f44648bca9ff1b4f153c4b": {
          "model_module": "@jupyter-widgets/controls",
          "model_name": "HTMLModel",
          "model_module_version": "1.5.0",
          "state": {
            "_dom_classes": [],
            "_model_module": "@jupyter-widgets/controls",
            "_model_module_version": "1.5.0",
            "_model_name": "HTMLModel",
            "_view_count": null,
            "_view_module": "@jupyter-widgets/controls",
            "_view_module_version": "1.5.0",
            "_view_name": "HTMLView",
            "description": "",
            "description_tooltip": null,
            "layout": "IPY_MODEL_858d799a83e3423a8c50a59589aa8759",
            "placeholder": "​",
            "style": "IPY_MODEL_bd6c1bc4cc984438b9984c88216893e2",
            "value": "pytorch_model.bin: 100%"
          }
        },
        "9bc64986f9fd4daeb90dac571d5378d2": {
          "model_module": "@jupyter-widgets/controls",
          "model_name": "FloatProgressModel",
          "model_module_version": "1.5.0",
          "state": {
            "_dom_classes": [],
            "_model_module": "@jupyter-widgets/controls",
            "_model_module_version": "1.5.0",
            "_model_name": "FloatProgressModel",
            "_view_count": null,
            "_view_module": "@jupyter-widgets/controls",
            "_view_module_version": "1.5.0",
            "_view_name": "ProgressView",
            "bar_style": "success",
            "description": "",
            "description_tooltip": null,
            "layout": "IPY_MODEL_f5eee02f5d664c38910314f47caa6edc",
            "max": 442221694,
            "min": 0,
            "orientation": "horizontal",
            "style": "IPY_MODEL_0e05ffcc70344fbe91174ac892b88a39",
            "value": 442221694
          }
        },
        "2b452443823d4fdfae95850db6438089": {
          "model_module": "@jupyter-widgets/controls",
          "model_name": "HTMLModel",
          "model_module_version": "1.5.0",
          "state": {
            "_dom_classes": [],
            "_model_module": "@jupyter-widgets/controls",
            "_model_module_version": "1.5.0",
            "_model_name": "HTMLModel",
            "_view_count": null,
            "_view_module": "@jupyter-widgets/controls",
            "_view_module_version": "1.5.0",
            "_view_name": "HTMLView",
            "description": "",
            "description_tooltip": null,
            "layout": "IPY_MODEL_04123dedca09455b9032a07233962d74",
            "placeholder": "​",
            "style": "IPY_MODEL_c30dc46cb0894bf79554673d62343202",
            "value": " 442M/442M [00:01&lt;00:00, 308MB/s]"
          }
        },
        "ffc489fd6aa44b4db4f9ccb54d0b923e": {
          "model_module": "@jupyter-widgets/base",
          "model_name": "LayoutModel",
          "model_module_version": "1.2.0",
          "state": {
            "_model_module": "@jupyter-widgets/base",
            "_model_module_version": "1.2.0",
            "_model_name": "LayoutModel",
            "_view_count": null,
            "_view_module": "@jupyter-widgets/base",
            "_view_module_version": "1.2.0",
            "_view_name": "LayoutView",
            "align_content": null,
            "align_items": null,
            "align_self": null,
            "border": null,
            "bottom": null,
            "display": null,
            "flex": null,
            "flex_flow": null,
            "grid_area": null,
            "grid_auto_columns": null,
            "grid_auto_flow": null,
            "grid_auto_rows": null,
            "grid_column": null,
            "grid_gap": null,
            "grid_row": null,
            "grid_template_areas": null,
            "grid_template_columns": null,
            "grid_template_rows": null,
            "height": null,
            "justify_content": null,
            "justify_items": null,
            "left": null,
            "margin": null,
            "max_height": null,
            "max_width": null,
            "min_height": null,
            "min_width": null,
            "object_fit": null,
            "object_position": null,
            "order": null,
            "overflow": null,
            "overflow_x": null,
            "overflow_y": null,
            "padding": null,
            "right": null,
            "top": null,
            "visibility": null,
            "width": null
          }
        },
        "858d799a83e3423a8c50a59589aa8759": {
          "model_module": "@jupyter-widgets/base",
          "model_name": "LayoutModel",
          "model_module_version": "1.2.0",
          "state": {
            "_model_module": "@jupyter-widgets/base",
            "_model_module_version": "1.2.0",
            "_model_name": "LayoutModel",
            "_view_count": null,
            "_view_module": "@jupyter-widgets/base",
            "_view_module_version": "1.2.0",
            "_view_name": "LayoutView",
            "align_content": null,
            "align_items": null,
            "align_self": null,
            "border": null,
            "bottom": null,
            "display": null,
            "flex": null,
            "flex_flow": null,
            "grid_area": null,
            "grid_auto_columns": null,
            "grid_auto_flow": null,
            "grid_auto_rows": null,
            "grid_column": null,
            "grid_gap": null,
            "grid_row": null,
            "grid_template_areas": null,
            "grid_template_columns": null,
            "grid_template_rows": null,
            "height": null,
            "justify_content": null,
            "justify_items": null,
            "left": null,
            "margin": null,
            "max_height": null,
            "max_width": null,
            "min_height": null,
            "min_width": null,
            "object_fit": null,
            "object_position": null,
            "order": null,
            "overflow": null,
            "overflow_x": null,
            "overflow_y": null,
            "padding": null,
            "right": null,
            "top": null,
            "visibility": null,
            "width": null
          }
        },
        "bd6c1bc4cc984438b9984c88216893e2": {
          "model_module": "@jupyter-widgets/controls",
          "model_name": "DescriptionStyleModel",
          "model_module_version": "1.5.0",
          "state": {
            "_model_module": "@jupyter-widgets/controls",
            "_model_module_version": "1.5.0",
            "_model_name": "DescriptionStyleModel",
            "_view_count": null,
            "_view_module": "@jupyter-widgets/base",
            "_view_module_version": "1.2.0",
            "_view_name": "StyleView",
            "description_width": ""
          }
        },
        "f5eee02f5d664c38910314f47caa6edc": {
          "model_module": "@jupyter-widgets/base",
          "model_name": "LayoutModel",
          "model_module_version": "1.2.0",
          "state": {
            "_model_module": "@jupyter-widgets/base",
            "_model_module_version": "1.2.0",
            "_model_name": "LayoutModel",
            "_view_count": null,
            "_view_module": "@jupyter-widgets/base",
            "_view_module_version": "1.2.0",
            "_view_name": "LayoutView",
            "align_content": null,
            "align_items": null,
            "align_self": null,
            "border": null,
            "bottom": null,
            "display": null,
            "flex": null,
            "flex_flow": null,
            "grid_area": null,
            "grid_auto_columns": null,
            "grid_auto_flow": null,
            "grid_auto_rows": null,
            "grid_column": null,
            "grid_gap": null,
            "grid_row": null,
            "grid_template_areas": null,
            "grid_template_columns": null,
            "grid_template_rows": null,
            "height": null,
            "justify_content": null,
            "justify_items": null,
            "left": null,
            "margin": null,
            "max_height": null,
            "max_width": null,
            "min_height": null,
            "min_width": null,
            "object_fit": null,
            "object_position": null,
            "order": null,
            "overflow": null,
            "overflow_x": null,
            "overflow_y": null,
            "padding": null,
            "right": null,
            "top": null,
            "visibility": null,
            "width": null
          }
        },
        "0e05ffcc70344fbe91174ac892b88a39": {
          "model_module": "@jupyter-widgets/controls",
          "model_name": "ProgressStyleModel",
          "model_module_version": "1.5.0",
          "state": {
            "_model_module": "@jupyter-widgets/controls",
            "_model_module_version": "1.5.0",
            "_model_name": "ProgressStyleModel",
            "_view_count": null,
            "_view_module": "@jupyter-widgets/base",
            "_view_module_version": "1.2.0",
            "_view_name": "StyleView",
            "bar_color": null,
            "description_width": ""
          }
        },
        "04123dedca09455b9032a07233962d74": {
          "model_module": "@jupyter-widgets/base",
          "model_name": "LayoutModel",
          "model_module_version": "1.2.0",
          "state": {
            "_model_module": "@jupyter-widgets/base",
            "_model_module_version": "1.2.0",
            "_model_name": "LayoutModel",
            "_view_count": null,
            "_view_module": "@jupyter-widgets/base",
            "_view_module_version": "1.2.0",
            "_view_name": "LayoutView",
            "align_content": null,
            "align_items": null,
            "align_self": null,
            "border": null,
            "bottom": null,
            "display": null,
            "flex": null,
            "flex_flow": null,
            "grid_area": null,
            "grid_auto_columns": null,
            "grid_auto_flow": null,
            "grid_auto_rows": null,
            "grid_column": null,
            "grid_gap": null,
            "grid_row": null,
            "grid_template_areas": null,
            "grid_template_columns": null,
            "grid_template_rows": null,
            "height": null,
            "justify_content": null,
            "justify_items": null,
            "left": null,
            "margin": null,
            "max_height": null,
            "max_width": null,
            "min_height": null,
            "min_width": null,
            "object_fit": null,
            "object_position": null,
            "order": null,
            "overflow": null,
            "overflow_x": null,
            "overflow_y": null,
            "padding": null,
            "right": null,
            "top": null,
            "visibility": null,
            "width": null
          }
        },
        "c30dc46cb0894bf79554673d62343202": {
          "model_module": "@jupyter-widgets/controls",
          "model_name": "DescriptionStyleModel",
          "model_module_version": "1.5.0",
          "state": {
            "_model_module": "@jupyter-widgets/controls",
            "_model_module_version": "1.5.0",
            "_model_name": "DescriptionStyleModel",
            "_view_count": null,
            "_view_module": "@jupyter-widgets/base",
            "_view_module_version": "1.2.0",
            "_view_name": "StyleView",
            "description_width": ""
          }
        }
      }
    }
  },
  "nbformat": 4,
  "nbformat_minor": 0
}