{
  "nbformat": 4,
  "nbformat_minor": 0,
  "metadata": {
    "colab": {
      "provenance": [],
      "gpuType": "T4",
      "include_colab_link": true
    },
    "kernelspec": {
      "name": "python3",
      "display_name": "Python 3"
    },
    "language_info": {
      "name": "python"
    },
    "accelerator": "GPU"
  },
  "cells": [
    {
      "cell_type": "markdown",
      "metadata": {
        "id": "view-in-github",
        "colab_type": "text"
      },
      "source": [
        "<a href=\"https://colab.research.google.com/github/zelal-Eizaldeen/DLH_Project_HurtfulWords_Paper/blob/main/5_Pregenerate_trainingData_wrapper_pc.ipynb\" target=\"_parent\"><img src=\"https://colab.research.google.com/assets/colab-badge.svg\" alt=\"Open In Colab\"/></a>"
      ]
    },
    {
      "cell_type": "code",
      "execution_count": 1,
      "metadata": {
        "colab": {
          "base_uri": "https://localhost:8080/"
        },
        "id": "f7ceuhxCuJLZ",
        "outputId": "f91a5c76-91ab-4125-c594-27c917097549"
      },
      "outputs": [
        {
          "output_type": "stream",
          "name": "stdout",
          "text": [
            "Mounted at /content/drive\n"
          ]
        }
      ],
      "source": [
        "from google.colab import drive\n",
        "drive.mount('/content/drive')"
      ]
    },
    {
      "cell_type": "code",
      "source": [
        "#Import modules\n",
        "import sys\n",
        "sys.path.append('/content/drive/MyDrive/Payel-DLH-related/Colab Notebooks')"
      ],
      "metadata": {
        "id": "gUiVkXXkGCyO"
      },
      "execution_count": 2,
      "outputs": []
    },
    {
      "cell_type": "markdown",
      "source": [
        "Download heuristic_tokenize.py from HurtfulWords/scripts and upload to Colab Notebooks folder"
      ],
      "metadata": {
        "id": "prLscVe_ww_5"
      }
    },
    {
      "cell_type": "code",
      "source": [
        "import pandas as pd\n",
        "import numpy as np\n",
        "# from pytorch_pretrained_bert.tokenization import BertTokenizer\n",
        "from transformers import BertTokenizer\n",
        "from argparse import ArgumentParser\n",
        "from pathlib import Path\n",
        "from tqdm import tqdm, trange\n",
        "from tempfile import TemporaryDirectory\n",
        "import shelve\n",
        "\n",
        "from random import random, randrange, randint, shuffle, choice\n",
        "# from pytorch_pretrained_bert.tokenization import BertTokenizer\n",
        "import numpy as np\n",
        "import json\n",
        "import collections\n",
        "import Constants\n",
        "import pandas as pd"
      ],
      "metadata": {
        "id": "hNsYIxoqwF7L"
      },
      "execution_count": 3,
      "outputs": []
    },
    {
      "cell_type": "markdown",
      "source": [
        "This is what comea AS INPUT TO THIS SCRIPT:"
      ],
      "metadata": {
        "id": "kDZC0MA5H0t0"
      }
    },
    {
      "cell_type": "code",
      "source": [
        "OUTPUT_DIR = \"/content/drive/MyDrive/Payel-DLH-related/DataFiles/sampled_files\"\n",
        "SCIBERT_DIR = '/content/drive/MyDrive/Payel-DLH-related/HurtfulWords/pretrainedModels/Baseline_Clinical_BERT/baseline_clinical_BERT_1_epoch_512'"
      ],
      "metadata": {
        "collapsed": true,
        "id": "QC7cueX4hoEu"
      },
      "execution_count": 4,
      "outputs": []
    },
    {
      "cell_type": "code",
      "source": [
        "%cd '/content/drive/MyDrive/Payel-DLH-related/Colab Notebooks'"
      ],
      "metadata": {
        "colab": {
          "base_uri": "https://localhost:8080/"
        },
        "id": "wNi4nMuFrFf9",
        "outputId": "d0fabdbd-8dd1-4004-a7e4-1cc37b279f43"
      },
      "execution_count": 5,
      "outputs": [
        {
          "output_type": "stream",
          "name": "stdout",
          "text": [
            "/content/drive/MyDrive/Payel-DLH-related/Colab Notebooks\n"
          ]
        }
      ]
    },
    {
      "cell_type": "code",
      "source": [
        "!pwd\n"
      ],
      "metadata": {
        "colab": {
          "base_uri": "https://localhost:8080/"
        },
        "id": "n9FdBcN0sLKt",
        "outputId": "787a8859-045e-4099-e144-26da6b649bbb"
      },
      "execution_count": 6,
      "outputs": [
        {
          "output_type": "stream",
          "name": "stdout",
          "text": [
            "/content/drive/MyDrive/Payel-DLH-related/Colab Notebooks\n"
          ]
        }
      ]
    },
    {
      "cell_type": "code",
      "source": [
        "# Path to the .pkl file\n",
        "import os\n",
        "file_path = f\"{OUTPUT_DIR}/df_grouped.pkl\"\n",
        "\n",
        "# Load the pickle file as a DataFrame\n",
        "df = pd.read_pickle(file_path)\n",
        "df.rename(columns={'row_id': 'note_id', 'diagnosis': 'adm_diag'}, inplace=True)\n",
        "df.to_pickle(f\"{OUTPUT_DIR}/df_grouped_revised.pkl\")"
      ],
      "metadata": {
        "id": "W8OZLcGcRZJA"
      },
      "execution_count": 8,
      "outputs": []
    },
    {
      "cell_type": "code",
      "source": [
        "df.to_csv(f\"{OUTPUT_DIR}/df_grouped_revised.csv\", index=False)"
      ],
      "metadata": {
        "id": "pTXvcU68eWLY"
      },
      "execution_count": 10,
      "outputs": []
    },
    {
      "cell_type": "code",
      "source": [
        "!echo \"Pregenerating training data...\"\n",
        "!python \"Changed scripts for training/pregenerate_training_data.py\" \\\n",
        "  --train_df \"$OUTPUT_DIR/df_grouped_revised.pkl\" \\\n",
        "  --col_name \"BERT_sents20\" \\\n",
        "  --output_dir \"$OUTPUT_DIR/pregen_epochs/128/\" \\\n",
        "  --bert_model \"$SCIBERT_DIR\" \\\n",
        "  --epochs_to_generate 1 \\\n",
        "  --max_seq_len 128"
      ],
      "metadata": {
        "colab": {
          "base_uri": "https://localhost:8080/"
        },
        "id": "YjQLnJP-rm2S",
        "outputId": "10e6f1b0-0f69-4865-b6ef-d29c20e79ec1"
      },
      "execution_count": 11,
      "outputs": [
        {
          "output_type": "stream",
          "name": "stdout",
          "text": [
            "Pregenerating training data...\n",
            "2025-03-31 04:36:05.188580: E external/local_xla/xla/stream_executor/cuda/cuda_fft.cc:477] Unable to register cuFFT factory: Attempting to register factory for plugin cuFFT when one has already been registered\n",
            "WARNING: All log messages before absl::InitializeLog() is called are written to STDERR\n",
            "E0000 00:00:1743395765.246823    5241 cuda_dnn.cc:8310] Unable to register cuDNN factory: Attempting to register factory for plugin cuDNN when one has already been registered\n",
            "E0000 00:00:1743395765.253082    5241 cuda_blas.cc:1418] Unable to register cuBLAS factory: Attempting to register factory for plugin cuBLAS when one has already been registered\n",
            "2025-03-31 04:36:05.275023: I tensorflow/core/platform/cpu_feature_guard.cc:210] This TensorFlow binary is optimized to use available CPU instructions in performance-critical operations.\n",
            "To enable the following instructions: AVX2 AVX512F FMA, in other operations, rebuild TensorFlow with the appropriate compiler flags.\n",
            "Epoch:   0% 0/1 [00:00<?, ?it/s]\n",
            "Document:   0% 0/303 [00:00<?, ?it/s]\u001b[A\n",
            "Document:  10% 31/303 [00:00<00:00, 298.55it/s]\u001b[A\n",
            "Document:  24% 72/303 [00:00<00:00, 362.39it/s]\u001b[A\n",
            "Document:  37% 112/303 [00:00<00:00, 376.75it/s]\u001b[A\n",
            "Document:  51% 155/303 [00:00<00:00, 394.46it/s]\u001b[A\n",
            "Document:  65% 197/303 [00:00<00:00, 401.95it/s]\u001b[A\n",
            "Document: 100% 303/303 [00:00<00:00, 441.08it/s]\n",
            "Epoch: 100% 1/1 [00:00<00:00,  1.43it/s]\n"
          ]
        }
      ]
    },
    {
      "cell_type": "code",
      "source": [
        "!echo \"Pregenerating training data...\"\n",
        "!python \"Changed scripts for training/pregenerate_training_data.py\" \\\n",
        "  --train_df \"$OUTPUT_DIR/df_grouped_revised.pkl\" \\\n",
        "  --col_name \"BERT_sents20\" \\\n",
        "  --output_dir \"$OUTPUT_DIR/pregen_epochs/512/\" \\\n",
        "  --bert_model \"$SCIBERT_DIR\" \\\n",
        "  --epochs_to_generate 1 \\\n",
        "  --max_seq_len 512"
      ],
      "metadata": {
        "colab": {
          "base_uri": "https://localhost:8080/"
        },
        "id": "2i7NpKDgf1zK",
        "outputId": "68fa2924-0ada-491e-adf1-b431534bc471"
      },
      "execution_count": 12,
      "outputs": [
        {
          "output_type": "stream",
          "name": "stdout",
          "text": [
            "Pregenerating training data...\n",
            "2025-03-31 04:40:16.876321: E external/local_xla/xla/stream_executor/cuda/cuda_fft.cc:477] Unable to register cuFFT factory: Attempting to register factory for plugin cuFFT when one has already been registered\n",
            "WARNING: All log messages before absl::InitializeLog() is called are written to STDERR\n",
            "E0000 00:00:1743396016.898846    6341 cuda_dnn.cc:8310] Unable to register cuDNN factory: Attempting to register factory for plugin cuDNN when one has already been registered\n",
            "E0000 00:00:1743396016.905400    6341 cuda_blas.cc:1418] Unable to register cuBLAS factory: Attempting to register factory for plugin cuBLAS when one has already been registered\n",
            "2025-03-31 04:40:16.926656: I tensorflow/core/platform/cpu_feature_guard.cc:210] This TensorFlow binary is optimized to use available CPU instructions in performance-critical operations.\n",
            "To enable the following instructions: AVX2 AVX512F FMA, in other operations, rebuild TensorFlow with the appropriate compiler flags.\n",
            "Epoch:   0% 0/1 [00:00<?, ?it/s]\n",
            "Document:   0% 0/303 [00:00<?, ?it/s]\u001b[A\n",
            "Document:  10% 30/303 [00:00<00:00, 298.12it/s]\u001b[A\n",
            "Document:  23% 69/303 [00:00<00:00, 350.73it/s]\u001b[A\n",
            "Document:  35% 106/303 [00:00<00:00, 354.46it/s]\u001b[A\n",
            "Document:  49% 149/303 [00:00<00:00, 383.43it/s]\u001b[A\n",
            "Document:  63% 190/303 [00:00<00:00, 391.28it/s]\u001b[A\n",
            "Document: 100% 303/303 [00:00<00:00, 434.07it/s]\n",
            "Epoch: 100% 1/1 [00:00<00:00,  1.41it/s]\n"
          ]
        }
      ]
    }
  ]
}